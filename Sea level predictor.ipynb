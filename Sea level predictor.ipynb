{
 "cells": [
  {
   "cell_type": "code",
   "execution_count": null,
   "metadata": {},
   "outputs": [],
   "source": [
    "#import libraray\n",
    "import pandas as pd\n",
    "import matplotlib.pyplot as plt\n",
    "from scipy.stats import linregress\n",
    "import numpy as np\n",
    "\n",
    "# Read data from file\n",
    "df=pd.read_csv('epa-sea-level.csv')\n",
    "\n",
    "# Create scatter plot\n",
    "df.plot(kind='scatter', x='Year',y='CSIRO Adjusted Sea Level',figsize=(14,6))\n",
    "\n",
    "def draw_plot():\n",
    "    # Create first line of best fit\n",
    "    line1=linregress(df['Year'],df['CSIRO Adjusted Sea Level'])\n",
    "    xa=np.arange(df['Year'].min(),2050,1)\n",
    "    ya=xa*line1.slope+line1.intercept\n",
    "    plt.plot(xa,ya)\n",
    "    y_2050=2050*line1.slope+line1.intercept\n",
    "\n",
    "     # Create second line of best fit\n",
    "    df_2000 = df[df['Year']>=2000]\n",
    "    line2=linregress(df_2000['Year'],df_2000['CSIRO Adjusted Sea Level'])\n",
    "    xa2=np.arange(df_2000['Year'].min(),2050,1)\n",
    "    ya2=xa2*line2.slope+line2.intercept\n",
    "    plt.plot(xa2,ya2)\n",
    "    y1_2050=2050*line2.slope+line2.intercept\n",
    "\n",
    "    # Add labels and title\n",
    "    plt.xlabel('Year')\n",
    "    plt.ylabel('Sea Level (inches)')\n",
    "    plt.title('Rise in Sea Level.')\n",
    "\n",
    "    # Save plot and return data for testing\n",
    "    plt.savefig('sea_level_plot.png')\n",
    "    return plt.gca()\n",
    "draw_plot()\n"
   ]
  }
 ],
 "metadata": {
  "kernelspec": {
   "display_name": "Python 3",
   "language": "python",
   "name": "python3"
  },
  "language_info": {
   "codemirror_mode": {
    "name": "ipython",
    "version": 3
   },
   "file_extension": ".py",
   "mimetype": "text/x-python",
   "name": "python",
   "nbconvert_exporter": "python",
   "pygments_lexer": "ipython3",
   "version": "3.7.6"
  }
 },
 "nbformat": 4,
 "nbformat_minor": 4
}
