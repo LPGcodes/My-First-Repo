{
 "cells": [
  {
   "cell_type": "code",
   "execution_count": 5,
   "metadata": {},
   "outputs": [],
   "source": [
    "import numpy as np"
   ]
  },
  {
   "cell_type": "code",
   "execution_count": 6,
   "metadata": {},
   "outputs": [
    {
     "data": {
      "text/plain": [
       "[0, 1, 2, 3, 4, 5, 6, 7, 8]"
      ]
     },
     "execution_count": 6,
     "metadata": {},
     "output_type": "execute_result"
    }
   ],
   "source": [
    "pro1=[0,1,2,3,4,5,6,7,8]\n",
    "pro1"
   ]
  },
  {
   "cell_type": "code",
   "execution_count": 7,
   "metadata": {},
   "outputs": [
    {
     "ename": "NameError",
     "evalue": "name 'calculate_mean' is not defined",
     "output_type": "error",
     "traceback": [
      "\u001b[0;31m---------------------------------------------------------------------------\u001b[0m",
      "\u001b[0;31mNameError\u001b[0m                                 Traceback (most recent call last)",
      "\u001b[0;32m<ipython-input-7-6730aefabc56>\u001b[0m in \u001b[0;36m<module>\u001b[0;34m\u001b[0m\n\u001b[0;32m----> 1\u001b[0;31m \u001b[0mcalculate_mean\u001b[0m\u001b[0;34m\u001b[0m\u001b[0;34m\u001b[0m\u001b[0m\n\u001b[0m\u001b[1;32m      2\u001b[0m \u001b[0mcalculateMean\u001b[0m\u001b[0;34m\u001b[0m\u001b[0;34m\u001b[0m\u001b[0m\n",
      "\u001b[0;31mNameError\u001b[0m: name 'calculate_mean' is not defined"
     ]
    }
   ],
   "source": [
    "calculate_mean\n",
    "calculateMean"
   ]
  },
  {
   "cell_type": "code",
   "execution_count": null,
   "metadata": {},
   "outputs": [],
   "source": [
    "def calculate(input_list):\n",
    "    mat = np.reshape(input_list,(3,3))\n",
    "    \n",
    "    mean0=np.mean(mat,axis=0).tolist()\n",
    "    mean1=np.mean(mat,axis=1).tolist()\n",
    "    meanf=np.mean(mat.flatten())\n",
    "    var0=np.var(mat,axis=0).tolist()\n",
    "    var1=np.var(mat,axis=1).tolist()\n",
    "    varf=np.var(mat.flatten())\n",
    "    std0=np.std(mat,axis=0).tolist()\n",
    "    std1=np.std(mat,axis=1).tolist()\n",
    "    stdf=np.std(mat.flatten())\n",
    "    max0=np.max(mat,axis=0).tolist()\n",
    "    max1=np.max(mat,axis=1).tolist()\n",
    "    maxf=np.max(mat.flatten())\n",
    "    min0=np.min(mat,axis=0).tolist()\n",
    "    min1=np.min(mat,axis=1).tolist()\n",
    "    minf=np.min(mat.flatten())\n",
    "    sum0=np.sum(mat,axis=0).tolist()\n",
    "    sum1=np.sum(mat,axis=1).tolist()\n",
    "    sumf=np.sum(mat.flatten())\n",
    "    result ={'Mean':[mean0,mean1,meanf],\n",
    "          'Variance':[var0,var1,varf],\n",
    "          'Standerd Deviation':[std0,std1,stdf],\n",
    "          'Max':[max0,max1,maxf],\n",
    "          'Min':[min0,min1,minf],\n",
    "          'Sum':[sum0,sum1,sumf]}\n",
    "    return result   "
   ]
  },
  {
   "cell_type": "code",
   "execution_count": 8,
   "metadata": {},
   "outputs": [
    {
     "data": {
      "text/plain": [
       "{'Mean': [[3.0, 4.0, 5.0], [1.0, 4.0, 7.0], 4.0],\n",
       " 'Variance': [[6.0, 6.0, 6.0],\n",
       "  [0.6666666666666666, 0.6666666666666666, 0.6666666666666666],\n",
       "  6.666666666666667],\n",
       " 'Standerd Deviation': [[2.449489742783178,\n",
       "   2.449489742783178,\n",
       "   2.449489742783178],\n",
       "  [0.816496580927726, 0.816496580927726, 0.816496580927726],\n",
       "  2.581988897471611],\n",
       " 'Max': [[6, 7, 8], [2, 5, 8], 8],\n",
       " 'Min': [[0, 1, 2], [0, 3, 6], 0],\n",
       " 'Sum': [[9, 12, 15], [3, 12, 21], 36]}"
      ]
     },
     "execution_count": 8,
     "metadata": {},
     "output_type": "execute_result"
    }
   ],
   "source": [
    "calculate(pro1)"
   ]
  },
  {
   "cell_type": "code",
   "execution_count": null,
   "metadata": {},
   "outputs": [],
   "source": []
  },
  {
   "cell_type": "code",
   "execution_count": null,
   "metadata": {},
   "outputs": [],
   "source": []
  }
 ],
 "metadata": {
  "kernelspec": {
   "display_name": "Python 3",
   "language": "python",
   "name": "python3"
  },
  "language_info": {
   "codemirror_mode": {
    "name": "ipython",
    "version": 3
   },
   "file_extension": ".py",
   "mimetype": "text/x-python",
   "name": "python",
   "nbconvert_exporter": "python",
   "pygments_lexer": "ipython3",
   "version": "3.7.6"
  }
 },
 "nbformat": 4,
 "nbformat_minor": 4
}
