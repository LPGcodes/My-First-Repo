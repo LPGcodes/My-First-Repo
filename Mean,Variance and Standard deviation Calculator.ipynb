{
 "cells": [
  {
   "cell_type": "code",
   "execution_count": null,
   "metadata": {},
   "outputs": [],
   "source": [
    "# import libraray \n",
    "import numpy as np\n",
    "#Input data\n",
    "pro1 = [0, 1, 2, 3, 4, 5, 6, 7, 8]\n",
    "\n",
    "#Function \n",
    "def calculate(input_list):\n",
    "    # Reshape list inti 3*3 matrix\n",
    "    mat = np.reshape(input_list, (3, 3))\n",
    "\n",
    "    #Mean calculation\n",
    "    mean0 = np.mean(mat, axis=0).tolist()\n",
    "    mean1 = np.mean(mat, axis=1).tolist()\n",
    "    meanf = np.mean(mat.flatten())\n",
    "\n",
    "    #Variance calcultaion\n",
    "    var0 = np.var(mat, axis=0).tolist()\n",
    "    var1 = np.var(mat, axis=1).tolist()\n",
    "    varf = np.var(mat.flatten())\n",
    "\n",
    "    #Standard deviation calculation\n",
    "    std0 = np.std(mat, axis=0).tolist()\n",
    "    std1 = np.std(mat, axis=1).tolist()\n",
    "    stdf = np.std(mat.flatten())\n",
    "\n",
    "    #Find the maximum number\n",
    "    max0 = np.max(mat, axis=0).tolist()\n",
    "    max1 = np.max(mat, axis=1).tolist()\n",
    "    maxf = np.max(mat.flatten())\n",
    "\n",
    "    #Find the minimum number\n",
    "    min0 = np.min(mat, axis=0).tolist()\n",
    "    min1 = np.min(mat, axis=1).tolist()\n",
    "    minf = np.min(mat.flatten())\n",
    "\n",
    "    #find the total value\n",
    "    sum0 = np.sum(mat, axis=0).tolist()\n",
    "    sum1 = np.sum(mat, axis=1).tolist()\n",
    "    sumf = np.sum(mat.flatten())\n",
    "\n",
    "    #Output display formatting\n",
    "\n",
    "    result = {'Mean': [mean0, mean1, meanf],\n",
    "              'Variance': [var0, var1, varf],\n",
    "              'Standerd Deviation': [std0, std1, stdf],\n",
    "              'Max': [max0, max1, maxf],\n",
    "              'Min': [min0, min1, minf],\n",
    "              'Sum': [sum0, sum1, sumf]}\n",
    "    return result\n",
    "\n",
    "#Function calling\n",
    "print(calculate(pro1))\n"
   ]
  }
 ],
 "metadata": {
  "kernelspec": {
   "display_name": "Python 3",
   "language": "python",
   "name": "python3"
  },
  "language_info": {
   "codemirror_mode": {
    "name": "ipython",
    "version": 3
   },
   "file_extension": ".py",
   "mimetype": "text/x-python",
   "name": "python",
   "nbconvert_exporter": "python",
   "pygments_lexer": "ipython3",
   "version": "3.7.6"
  }
 },
 "nbformat": 4,
 "nbformat_minor": 4
}
